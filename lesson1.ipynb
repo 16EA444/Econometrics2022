{
 "cells": [
  {
   "cell_type": "code",
   "execution_count": 15,
   "id": "ab4191ed",
   "metadata": {},
   "outputs": [
    {
     "data": {
      "text/plain": [
       "'Hi my friends'"
      ]
     },
     "execution_count": 15,
     "metadata": {},
     "output_type": "execute_result"
    }
   ],
   "source": [
    "str1 = \"Hi my friends\"\n",
    "str1\n"
   ]
  },
  {
   "cell_type": "code",
   "execution_count": 16,
   "id": "9015d877",
   "metadata": {},
   "outputs": [],
   "source": [
    "str1 = \"\"\"\n",
    "Hi my friends,\n",
    "I am happy to see you!\n",
    "\"\"\"\n",
    "\n"
   ]
  },
  {
   "cell_type": "code",
   "execution_count": 17,
   "id": "a5fef7fc",
   "metadata": {},
   "outputs": [
    {
     "name": "stdout",
     "output_type": "stream",
     "text": [
      "\n",
      "Hi my friends,\n",
      "I am happy to see you!\n",
      "\n"
     ]
    }
   ],
   "source": [
    "print(str1)"
   ]
  },
  {
   "cell_type": "code",
   "execution_count": 18,
   "id": "def29b37",
   "metadata": {},
   "outputs": [
    {
     "data": {
      "text/plain": [
       "'\\nHI MY FRIENDS,\\nI AM HAPPY TO SEE YOU!\\n'"
      ]
     },
     "execution_count": 18,
     "metadata": {},
     "output_type": "execute_result"
    }
   ],
   "source": [
    "str1.upper()"
   ]
  },
  {
   "cell_type": "code",
   "execution_count": 19,
   "id": "18cbb7f4",
   "metadata": {},
   "outputs": [
    {
     "data": {
      "text/plain": [
       "'\\nhi my friends,\\ni am happy to see you!\\n'"
      ]
     },
     "execution_count": 19,
     "metadata": {},
     "output_type": "execute_result"
    }
   ],
   "source": [
    "str1.lower()"
   ]
  },
  {
   "cell_type": "code",
   "execution_count": 20,
   "id": "d31f405c",
   "metadata": {},
   "outputs": [
    {
     "data": {
      "text/plain": [
       "'\\nHello my friends,\\nI am happy to see you!\\n'"
      ]
     },
     "execution_count": 20,
     "metadata": {},
     "output_type": "execute_result"
    }
   ],
   "source": [
    "str1.replace(\"Hi\",\"Hello\")"
   ]
  },
  {
   "cell_type": "code",
   "execution_count": 21,
   "id": "9a4aa829",
   "metadata": {},
   "outputs": [
    {
     "data": {
      "text/plain": [
       "7"
      ]
     },
     "execution_count": 21,
     "metadata": {},
     "output_type": "execute_result"
    }
   ],
   "source": [
    "str1.find(\"friends\")"
   ]
  },
  {
   "cell_type": "code",
   "execution_count": 22,
   "id": "c5a10acb",
   "metadata": {},
   "outputs": [
    {
     "data": {
      "text/plain": [
       "9"
      ]
     },
     "execution_count": 22,
     "metadata": {},
     "output_type": "execute_result"
    }
   ],
   "source": [
    "a=\"Anushavan\"\n",
    "len(a)"
   ]
  },
  {
   "cell_type": "code",
   "execution_count": 24,
   "id": "9d0f8400",
   "metadata": {},
   "outputs": [
    {
     "data": {
      "text/plain": [
       "'n'"
      ]
     },
     "execution_count": 24,
     "metadata": {},
     "output_type": "execute_result"
    }
   ],
   "source": [
    "a[1]"
   ]
  },
  {
   "cell_type": "code",
   "execution_count": 25,
   "id": "41c3deb1",
   "metadata": {},
   "outputs": [
    {
     "data": {
      "text/plain": [
       "'a'"
      ]
     },
     "execution_count": 25,
     "metadata": {},
     "output_type": "execute_result"
    }
   ],
   "source": [
    "a[-2]"
   ]
  },
  {
   "cell_type": "code",
   "execution_count": 29,
   "id": "79ddb0cc",
   "metadata": {},
   "outputs": [
    {
     "data": {
      "text/plain": [
       "'nush'"
      ]
     },
     "execution_count": 29,
     "metadata": {},
     "output_type": "execute_result"
    }
   ],
   "source": [
    "a[1:5]"
   ]
  },
  {
   "cell_type": "code",
   "execution_count": 31,
   "id": "f97ca56f",
   "metadata": {},
   "outputs": [
    {
     "data": {
      "text/plain": [
       "'nush'"
      ]
     },
     "execution_count": 31,
     "metadata": {},
     "output_type": "execute_result"
    }
   ],
   "source": [
    "a[1:5:1] #[start:end:step]"
   ]
  },
  {
   "cell_type": "code",
   "execution_count": 32,
   "id": "b73094cf",
   "metadata": {},
   "outputs": [
    {
     "data": {
      "text/plain": [
       "'ns'"
      ]
     },
     "execution_count": 32,
     "metadata": {},
     "output_type": "execute_result"
    }
   ],
   "source": [
    "a[1:5:2] #[start:end:step]"
   ]
  },
  {
   "cell_type": "code",
   "execution_count": 33,
   "id": "5fe04069",
   "metadata": {},
   "outputs": [
    {
     "data": {
      "text/plain": [
       "'nh'"
      ]
     },
     "execution_count": 33,
     "metadata": {},
     "output_type": "execute_result"
    }
   ],
   "source": [
    "a[1:5:3] #[start:end:step]"
   ]
  },
  {
   "cell_type": "code",
   "execution_count": null,
   "id": "74e02901",
   "metadata": {},
   "outputs": [],
   "source": []
  }
 ],
 "metadata": {
  "kernelspec": {
   "display_name": "Python 3 (ipykernel)",
   "language": "python",
   "name": "python3"
  },
  "language_info": {
   "codemirror_mode": {
    "name": "ipython",
    "version": 3
   },
   "file_extension": ".py",
   "mimetype": "text/x-python",
   "name": "python",
   "nbconvert_exporter": "python",
   "pygments_lexer": "ipython3",
   "version": "3.9.7"
  }
 },
 "nbformat": 4,
 "nbformat_minor": 5
}
