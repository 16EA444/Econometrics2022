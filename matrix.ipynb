{
 "cells": [
  {
   "cell_type": "code",
   "execution_count": 71,
   "id": "173a70e8",
   "metadata": {},
   "outputs": [],
   "source": [
    "import numpy as np"
   ]
  },
  {
   "cell_type": "code",
   "execution_count": 66,
   "id": "b13859f3",
   "metadata": {},
   "outputs": [],
   "source": [
    "matrix1 = np.array([(1,2,3),(4,5,6),(7,8,9)])"
   ]
  },
  {
   "cell_type": "code",
   "execution_count": 67,
   "id": "770ffa59",
   "metadata": {
    "scrolled": true
   },
   "outputs": [
    {
     "data": {
      "text/plain": [
       "(3, 3)"
      ]
     },
     "execution_count": 67,
     "metadata": {},
     "output_type": "execute_result"
    }
   ],
   "source": [
    "matrix1.shape"
   ]
  },
  {
   "cell_type": "code",
   "execution_count": 68,
   "id": "2ae57003",
   "metadata": {},
   "outputs": [
    {
     "name": "stdout",
     "output_type": "stream",
     "text": [
      "2\n"
     ]
    }
   ],
   "source": [
    "print(matrix1.ndim)"
   ]
  },
  {
   "cell_type": "code",
   "execution_count": 69,
   "id": "c384e82f",
   "metadata": {},
   "outputs": [
    {
     "name": "stdout",
     "output_type": "stream",
     "text": [
      "9\n"
     ]
    }
   ],
   "source": [
    "print(matrix1.size)"
   ]
  },
  {
   "cell_type": "code",
   "execution_count": 70,
   "id": "b820e0a8",
   "metadata": {},
   "outputs": [
    {
     "name": "stdout",
     "output_type": "stream",
     "text": [
      "[[1 2 3 4 5 6 7 8 9]]\n"
     ]
    }
   ],
   "source": [
    "print(matrix1.reshape(1,9))"
   ]
  },
  {
   "cell_type": "code",
   "execution_count": 53,
   "id": "7eba4f35",
   "metadata": {},
   "outputs": [
    {
     "name": "stdout",
     "output_type": "stream",
     "text": [
      "[[1. 1. 1.]\n",
      " [1. 1. 1.]\n",
      " [1. 1. 1.]]\n"
     ]
    }
   ],
   "source": [
    "print(np.ones((3,3)))"
   ]
  },
  {
   "cell_type": "code",
   "execution_count": 54,
   "id": "cda8d52e",
   "metadata": {},
   "outputs": [
    {
     "name": "stdout",
     "output_type": "stream",
     "text": [
      "[[1. 0. 0. 0. 0.]\n",
      " [0. 1. 0. 0. 0.]\n",
      " [0. 0. 1. 0. 0.]\n",
      " [0. 0. 0. 1. 0.]\n",
      " [0. 0. 0. 0. 1.]]\n"
     ]
    }
   ],
   "source": [
    "print(np.eye(5))"
   ]
  },
  {
   "cell_type": "code",
   "execution_count": 55,
   "id": "97234fe9",
   "metadata": {},
   "outputs": [
    {
     "name": "stdout",
     "output_type": "stream",
     "text": [
      "[[5 5 5]\n",
      " [5 5 5]\n",
      " [5 5 5]]\n"
     ]
    }
   ],
   "source": [
    "print(np.full((3,3),5))"
   ]
  },
  {
   "cell_type": "code",
   "execution_count": 56,
   "id": "045f36d2",
   "metadata": {},
   "outputs": [
    {
     "name": "stdout",
     "output_type": "stream",
     "text": [
      "[[1. 1. 1.]\n",
      " [1. 1. 1.]\n",
      " [1. 1. 1.]]\n"
     ]
    }
   ],
   "source": [
    "print(np.empty((3,3)))"
   ]
  },
  {
   "cell_type": "code",
   "execution_count": 57,
   "id": "917a0855",
   "metadata": {},
   "outputs": [
    {
     "name": "stdout",
     "output_type": "stream",
     "text": [
      "[-1.05553488e-018  9.11530889e+122]\n"
     ]
    }
   ],
   "source": [
    "print(np.empty(2))"
   ]
  },
  {
   "cell_type": "code",
   "execution_count": 58,
   "id": "b639bbe9",
   "metadata": {},
   "outputs": [],
   "source": [
    "matrix2 = np.array([(10,11,12),(13,14,15),(16,17,18)])"
   ]
  },
  {
   "cell_type": "code",
   "execution_count": 59,
   "id": "78027ffa",
   "metadata": {},
   "outputs": [
    {
     "name": "stdout",
     "output_type": "stream",
     "text": [
      "[[11 13 15]\n",
      " [17 19 21]\n",
      " [23 25 27]]\n"
     ]
    }
   ],
   "source": [
    "print(matrix1+matrix2)"
   ]
  },
  {
   "cell_type": "code",
   "execution_count": 60,
   "id": "9d4b6d8a",
   "metadata": {},
   "outputs": [
    {
     "name": "stdout",
     "output_type": "stream",
     "text": [
      "[[1 2 3]\n",
      " [7 8 9]]\n"
     ]
    }
   ],
   "source": [
    "print(np.delete(matrix1, 1, axis=0))\n"
   ]
  },
  {
   "cell_type": "code",
   "execution_count": 61,
   "id": "5eda0424",
   "metadata": {},
   "outputs": [
    {
     "name": "stdout",
     "output_type": "stream",
     "text": [
      "[4. 5. 6.]\n"
     ]
    }
   ],
   "source": [
    "print(np.mean(matrix1, axis=0))"
   ]
  },
  {
   "cell_type": "code",
   "execution_count": 62,
   "id": "d489d290",
   "metadata": {},
   "outputs": [
    {
     "name": "stdout",
     "output_type": "stream",
     "text": [
      "15\n",
      "[11 14 17]\n",
      "[11 12 13 14 15 16 17 18]\n",
      "[[ True  True  True]\n",
      " [ True False False]\n",
      " [False False False]]\n"
     ]
    }
   ],
   "source": [
    "print(matrix2[1,2])\n",
    "print(matrix2[: , 1])\n",
    "print(matrix2[matrix2 > 10])\n",
    "print(matrix1 < 5)"
   ]
  },
  {
   "cell_type": "code",
   "execution_count": 63,
   "id": "aa42a128",
   "metadata": {},
   "outputs": [
    {
     "name": "stdout",
     "output_type": "stream",
     "text": [
      "[4 8 2 0]\n",
      "[9 2 6]\n"
     ]
    }
   ],
   "source": [
    "matrix3 = np.array([(1,4,7),(3,8,5),(9,2,6),(11,0,22)])\n",
    "print(matrix3[:,1])\n",
    "print(matrix3[2,:])"
   ]
  },
  {
   "cell_type": "code",
   "execution_count": 64,
   "id": "cf2ad87f",
   "metadata": {},
   "outputs": [
    {
     "name": "stdout",
     "output_type": "stream",
     "text": [
      "[67  4 23 44 12  7 88  6  0 65  2 17  1  2  3]\n",
      "[67 23 44 12  7 88  6 65 17]\n"
     ]
    }
   ],
   "source": [
    "matrix4 = np.array([(67,4,23),(44,12,7),(88,6,0),(65,2,17)])\n",
    "print(np.append(matrix4,np.array([1,2,3])))\n",
    "print(matrix4[matrix4 > 5])"
   ]
  }
 ],
 "metadata": {
  "kernelspec": {
   "display_name": "Python 3 (ipykernel)",
   "language": "python",
   "name": "python3"
  },
  "language_info": {
   "codemirror_mode": {
    "name": "ipython",
    "version": 3
   },
   "file_extension": ".py",
   "mimetype": "text/x-python",
   "name": "python",
   "nbconvert_exporter": "python",
   "pygments_lexer": "ipython3",
   "version": "3.9.7"
  }
 },
 "nbformat": 4,
 "nbformat_minor": 5
}
