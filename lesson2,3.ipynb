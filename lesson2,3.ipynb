{
 "cells": [
  {
   "cell_type": "code",
   "execution_count": 1,
   "id": "43b88289",
   "metadata": {},
   "outputs": [
    {
     "name": "stdout",
     "output_type": "stream",
     "text": [
      "0\n",
      "5\n",
      "10\n",
      "15\n",
      "20\n",
      "25\n",
      "30\n",
      "35\n",
      "40\n",
      "45\n",
      "50\n",
      "55\n",
      "60\n",
      "65\n",
      "70\n",
      "75\n",
      "80\n"
     ]
    }
   ],
   "source": [
    "for x in range(17):\n",
    "    x *= 5\n",
    "    print(x)\n",
    "    "
   ]
  },
  {
   "cell_type": "code",
   "execution_count": 2,
   "id": "4979ea29",
   "metadata": {},
   "outputs": [
    {
     "name": "stdout",
     "output_type": "stream",
     "text": [
      "['hello', 2468, 'time', 1357, 'anaconda', 7777, 9753, 'barev', 4968]\n",
      "['hello', 2468, 'time', 1357, 'anaconda', 7777, 9753, 'barev']\n",
      "['hello', 2468, 'time', 1357, 'anaconda', 7777, 9753]\n",
      "['hello', 2468, 'time', 1357, 'anaconda', 7777]\n",
      "['hello', 2468, 'time', 1357, 'anaconda']\n"
     ]
    }
   ],
   "source": [
    "list_a = [\"hello\", 2468, \"time\", 1357, \"anaconda\", 7777, 9753, \"barev\", 4968, \"armenia\"]\n",
    "n = 0\n",
    "while n < len(list_a):\n",
    "    list_a.pop()\n",
    "    print(list_a)\n",
    "    n += 1"
   ]
  },
  {
   "cell_type": "code",
   "execution_count": 4,
   "id": "db742059",
   "metadata": {},
   "outputs": [
    {
     "name": "stdout",
     "output_type": "stream",
     "text": [
      "['hello', 2468, 'time', 1357, 'anaconda', 7777, 9753, 'barev', 4968]\n",
      "['hello', 2468, 'time', 1357, 'anaconda', 7777, 9753, 'barev']\n",
      "['hello', 2468, 'time', 1357, 'anaconda', 7777, 9753]\n",
      "['hello', 2468, 'time', 1357, 'anaconda', 7777]\n",
      "['hello', 2468, 'time', 1357, 'anaconda']\n",
      "['hello', 2468, 'time', 1357]\n",
      "['hello', 2468, 'time']\n",
      "['hello', 2468]\n",
      "['hello']\n",
      "[]\n"
     ]
    }
   ],
   "source": [
    "list_a = [\"hello\", 2468, \"time\", 1357, \"anaconda\", 7777, 9753, \"barev\", 4968, \"armenia\"]\n",
    "n = 0\n",
    "while n < 10:\n",
    "    list_a.pop()\n",
    "    print(list_a)\n",
    "    n += 1"
   ]
  },
  {
   "cell_type": "code",
   "execution_count": 6,
   "id": "27cf93fc",
   "metadata": {},
   "outputs": [
    {
     "name": "stdout",
     "output_type": "stream",
     "text": [
      "Element is string c\n",
      "Element is numberic 17\n",
      "Element is numberic 44\n",
      "Element is string j\n",
      "Element is something else {3, 5, 7}\n"
     ]
    }
   ],
   "source": [
    "a = [\"c\", 17, 44, \"j\", {3,5,7}]\n",
    "for element in a:\n",
    "    if type(element) == int:\n",
    "        print(\"Element is numberic\", element)\n",
    "    elif  type(element) == str:\n",
    "        print(\"Element is string\", element)\n",
    "    else:\n",
    "        print(\"Element is something else\", element)\n",
    "        "
   ]
  },
  {
   "cell_type": "code",
   "execution_count": null,
   "id": "864e1b9a",
   "metadata": {},
   "outputs": [],
   "source": []
  }
 ],
 "metadata": {
  "kernelspec": {
   "display_name": "Python 3 (ipykernel)",
   "language": "python",
   "name": "python3"
  },
  "language_info": {
   "codemirror_mode": {
    "name": "ipython",
    "version": 3
   },
   "file_extension": ".py",
   "mimetype": "text/x-python",
   "name": "python",
   "nbconvert_exporter": "python",
   "pygments_lexer": "ipython3",
   "version": "3.9.7"
  }
 },
 "nbformat": 4,
 "nbformat_minor": 5
}
