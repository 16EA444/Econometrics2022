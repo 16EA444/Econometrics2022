{
 "cells": [
  {
   "cell_type": "code",
   "execution_count": 1,
   "id": "daf69220",
   "metadata": {},
   "outputs": [],
   "source": [
    "Dictionary= {'word': \"Econometrics\",\n",
    "'sentence': \"If the implementation is easy to explain, it may be a good idea.\",\n",
    "'big_list': [\"python\", 3, \"anaconda\", 3.6, \"jupyter\", 10, \"lessons\", \"many\", 99],\n",
    "'empty_list': []\n",
    "}"
   ]
  },
  {
   "cell_type": "code",
   "execution_count": 2,
   "id": "0932cb75",
   "metadata": {},
   "outputs": [],
   "source": [
    "if not Dictionary['word'].isupper():\n",
    "    Dictionary['word'] =\"Applied_\"+ Dictionary['word'].upper() "
   ]
  },
  {
   "cell_type": "code",
   "execution_count": 3,
   "id": "b9616975",
   "metadata": {},
   "outputs": [
    {
     "data": {
      "text/plain": [
       "'If the implementation is easy to explain, it may be a good think.'"
      ]
     },
     "execution_count": 3,
     "metadata": {},
     "output_type": "execute_result"
    }
   ],
   "source": [
    "Dictionary['sentence'].replace(\"idea\", \"think\")"
   ]
  },
  {
   "cell_type": "code",
   "execution_count": 4,
   "id": "9f91b5e7",
   "metadata": {},
   "outputs": [
    {
     "name": "stdout",
     "output_type": "stream",
     "text": [
      "p\n",
      "a\n",
      "j\n",
      "l\n",
      "m\n"
     ]
    }
   ],
   "source": [
    "for i in Dictionary['big_list']:\n",
    "    if type(i) == str:\n",
    "        print(i[0])"
   ]
  },
  {
   "cell_type": "code",
   "execution_count": 5,
   "id": "0540341d",
   "metadata": {},
   "outputs": [
    {
     "name": "stdout",
     "output_type": "stream",
     "text": [
      "100\n"
     ]
    }
   ],
   "source": [
    "sum = 0\n",
    "for i in Dictionary['big_list']:\n",
    "    if type(i) == int:\n",
    "        sum+= i\n",
    "sum1 = 0\n",
    "Dictionary['big_list'].remove(Dictionary['big_list'][-1])\n",
    "Dictionary['big_list'].append(87)\n",
    "for item in Dictionary['big_list']:\n",
    "    if type(item) == int:\n",
    "        sum1+= item\n",
    "print(sum1)"
   ]
  },
  {
   "cell_type": "code",
   "execution_count": 6,
   "id": "78fbcaff",
   "metadata": {},
   "outputs": [
    {
     "data": {
      "text/plain": [
       "{'word': 'Applied_ECONOMETRICS',\n",
       " 'sentence': 'If the implementation is easy to explain, it may be a good idea.',\n",
       " 'big_list': ['python',\n",
       "  3,\n",
       "  'anaconda',\n",
       "  3.6,\n",
       "  'jupyter',\n",
       "  10,\n",
       "  'lessons',\n",
       "  'Anushavan',\n",
       "  87],\n",
       " 'empty_list': []}"
      ]
     },
     "execution_count": 6,
     "metadata": {},
     "output_type": "execute_result"
    }
   ],
   "source": [
    "Dictionary['big_list'][7] = \"Anushavan\"\n",
    "Dictionary"
   ]
  },
  {
   "cell_type": "code",
   "execution_count": 10,
   "id": "56e639c5",
   "metadata": {},
   "outputs": [
    {
     "name": "stdout",
     "output_type": "stream",
     "text": [
      "45 45\n",
      "Applied_ECONOMETRICS\n",
      "If the implementation is easy to explain, it may be a good idea.\n",
      "['python', 3, 'anaconda', 3.6, 'jupyter', 10, 'lessons', 'Anushavan', 87]\n",
      "[]\n"
     ]
    }
   ],
   "source": [
    "My_list = []\n",
    "count_odd = 0\n",
    "count_prime = 0\n",
    "for i in range(10,100):\n",
    "    My_list.append(i)\n",
    "\n",
    "for number in My_list:\n",
    "    if number % 2 == 0:\n",
    "        count_prime +=1\n",
    "    elif number % 2 == 1:\n",
    "        count_odd +=1\n",
    "\n",
    "print(count_odd, count_prime)\n",
    "\n",
    "\n",
    "for key in Dictionary:\n",
    "    print( Dictionary[key])"
   ]
  },
  {
   "cell_type": "code",
   "execution_count": null,
   "id": "29233650",
   "metadata": {},
   "outputs": [],
   "source": []
  }
 ],
 "metadata": {
  "kernelspec": {
   "display_name": "Python 3 (ipykernel)",
   "language": "python",
   "name": "python3"
  },
  "language_info": {
   "codemirror_mode": {
    "name": "ipython",
    "version": 3
   },
   "file_extension": ".py",
   "mimetype": "text/x-python",
   "name": "python",
   "nbconvert_exporter": "python",
   "pygments_lexer": "ipython3",
   "version": "3.9.7"
  }
 },
 "nbformat": 4,
 "nbformat_minor": 5
}
