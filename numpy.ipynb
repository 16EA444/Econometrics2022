{
 "cells": [
  {
   "cell_type": "code",
   "execution_count": 1,
   "id": "500aecf0",
   "metadata": {},
   "outputs": [],
   "source": [
    "import numpy as np"
   ]
  },
  {
   "cell_type": "code",
   "execution_count": 2,
   "id": "5c6a9e0a",
   "metadata": {},
   "outputs": [],
   "source": [
    "from random import randint"
   ]
  },
  {
   "cell_type": "code",
   "execution_count": 3,
   "id": "4325058f",
   "metadata": {},
   "outputs": [],
   "source": [
    "matrix1 = np.empty((12,12), int)"
   ]
  },
  {
   "cell_type": "code",
   "execution_count": 6,
   "id": "ebe2a32b",
   "metadata": {},
   "outputs": [],
   "source": [
    "matrix2 = np.empty((12,12), int)"
   ]
  },
  {
   "cell_type": "code",
   "execution_count": 7,
   "id": "139dd4d1",
   "metadata": {},
   "outputs": [],
   "source": [
    "for i in range(0, 12):\n",
    "    for j in range(0,12):\n",
    "        matrix1[i][j] = randint(0,100)\n",
    "        matrix2[i][j] = randint(0,100)"
   ]
  },
  {
   "cell_type": "code",
   "execution_count": 8,
   "id": "4f6bc28c",
   "metadata": {},
   "outputs": [
    {
     "name": "stdout",
     "output_type": "stream",
     "text": [
      "[[ 63  84  44  20  55  76  13  33  41   3  33  59]\n",
      " [ 17  61  94 100  45  22   1  83  20  93  68   3]\n",
      " [ 40  45  92  36  12   4  39  49  78  68  62  65]\n",
      " [ 13  28  32   0  97  12  26  40  86  29  11  64]\n",
      " [ 91  66  98  96  67  13  39  81   2  85   4  18]\n",
      " [ 57  79  27  88  78  11  48  12  79  99  65  94]\n",
      " [ 87  53  63  43  67  33  90  18  83  51  14  15]\n",
      " [ 50  98  21  61  75  63  62  32  67  60  88  99]\n",
      " [  3  45  50  92  27   3  92  38  19  53  97  36]\n",
      " [ 73  38  72  63  54  29   1  29  81  19  92  72]\n",
      " [  4  12  55  52  29  71  33  32  27  12  16  96]\n",
      " [ 10  95  84   5  56  75  58  20  68  77  73  52]]\n"
     ]
    }
   ],
   "source": [
    "print(matrix1)"
   ]
  },
  {
   "cell_type": "code",
   "execution_count": 9,
   "id": "b2dbfb92",
   "metadata": {},
   "outputs": [],
   "source": [
    "optional_row = matrix1[1]"
   ]
  },
  {
   "cell_type": "code",
   "execution_count": 10,
   "id": "e97fd554",
   "metadata": {},
   "outputs": [],
   "source": [
    "optional_col = matrix1[:, 4]"
   ]
  },
  {
   "cell_type": "code",
   "execution_count": 11,
   "id": "c60251e6",
   "metadata": {},
   "outputs": [
    {
     "name": "stdout",
     "output_type": "stream",
     "text": [
      "[ 17  61  94 100  45  22   1  83  20  93  68   3]\n"
     ]
    }
   ],
   "source": [
    "print(optional_row)"
   ]
  },
  {
   "cell_type": "code",
   "execution_count": 12,
   "id": "60bef726",
   "metadata": {},
   "outputs": [
    {
     "name": "stdout",
     "output_type": "stream",
     "text": [
      "[55 45 12 97 67 78 67 75 27 54 29 56]\n"
     ]
    }
   ],
   "source": [
    "print(optional_col)"
   ]
  },
  {
   "cell_type": "code",
   "execution_count": 13,
   "id": "0ad410c6",
   "metadata": {},
   "outputs": [
    {
     "name": "stdout",
     "output_type": "stream",
     "text": [
      "[ 63  84  44  20  55  76  13  33  41  33  59  17  61  94 100  45  22  83\n",
      "  20  93  68  40  45  92  36  12  39  49  78  68  62  65  13  28  32  97\n",
      "  12  26  40  86  29  11  64  91  66  98  96  67  13  39  81  85  18  57\n",
      "  79  27  88  78  11  48  12  79  99  65  94  87  53  63  43  67  33  90\n",
      "  18  83  51  14  15  50  98  21  61  75  63  62  32  67  60  88  99  45\n",
      "  50  92  27  92  38  19  53  97  36  73  38  72  63  54  29  29  81  19\n",
      "  92  72  12  55  52  29  71  33  32  27  12  16  96  10  95  84  56  75\n",
      "  58  20  68  77  73  52]\n"
     ]
    }
   ],
   "source": [
    "print(matrix1[matrix1 > 5])"
   ]
  },
  {
   "cell_type": "code",
   "execution_count": null,
   "id": "639b9e1d",
   "metadata": {},
   "outputs": [],
   "source": []
  }
 ],
 "metadata": {
  "kernelspec": {
   "display_name": "Python 3 (ipykernel)",
   "language": "python",
   "name": "python3"
  },
  "language_info": {
   "codemirror_mode": {
    "name": "ipython",
    "version": 3
   },
   "file_extension": ".py",
   "mimetype": "text/x-python",
   "name": "python",
   "nbconvert_exporter": "python",
   "pygments_lexer": "ipython3",
   "version": "3.9.7"
  }
 },
 "nbformat": 4,
 "nbformat_minor": 5
}
