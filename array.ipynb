{
 "cells": [
  {
   "cell_type": "code",
   "execution_count": 10,
   "id": "602e1ab8",
   "metadata": {},
   "outputs": [
    {
     "name": "stdout",
     "output_type": "stream",
     "text": [
      "(5,)\n"
     ]
    }
   ],
   "source": [
    "import numpy as np\n",
    "arr1 = np.array([1,2,3,4,5])\n",
    "print(arr1.shape)\n"
   ]
  },
  {
   "cell_type": "code",
   "execution_count": 11,
   "id": "9a6b118a",
   "metadata": {},
   "outputs": [
    {
     "name": "stdout",
     "output_type": "stream",
     "text": [
      "float64\n"
     ]
    },
    {
     "name": "stderr",
     "output_type": "stream",
     "text": [
      "C:\\Users\\dns\\AppData\\Local\\Temp/ipykernel_7904/1932073730.py:1: DeprecationWarning: `np.float` is a deprecated alias for the builtin `float`. To silence this warning, use `float` by itself. Doing this will not modify any behavior and is safe. If you specifically wanted the numpy scalar type, use `np.float64` here.\n",
      "Deprecated in NumPy 1.20; for more details and guidance: https://numpy.org/devdocs/release/1.20.0-notes.html#deprecations\n",
      "  arr1 = np.array([1,2,3,4,5], dtype=np.float)\n"
     ]
    }
   ],
   "source": [
    "arr1 = np.array([1,2,3,4,5], dtype=np.float)\n",
    "print(arr1.dtype)"
   ]
  },
  {
   "cell_type": "code",
   "execution_count": 12,
   "id": "1c65e5ef",
   "metadata": {},
   "outputs": [
    {
     "name": "stdout",
     "output_type": "stream",
     "text": [
      "[10 11 12 13 14 15 16 17 18 19]\n"
     ]
    }
   ],
   "source": [
    "arr2 = np.arange(10,20)\n",
    "print(arr2)"
   ]
  },
  {
   "cell_type": "code",
   "execution_count": 13,
   "id": "9f98bdf8",
   "metadata": {},
   "outputs": [
    {
     "name": "stdout",
     "output_type": "stream",
     "text": [
      "[0.  1.5 3.  4.5 6.  7.5 9. ]\n"
     ]
    }
   ],
   "source": [
    "arr3 = np.arange(0,10,1.5)\n",
    "print(arr3)"
   ]
  },
  {
   "cell_type": "code",
   "execution_count": 14,
   "id": "732eb61f",
   "metadata": {},
   "outputs": [
    {
     "name": "stdout",
     "output_type": "stream",
     "text": [
      "[0.72980993 0.9175413  0.25689552 0.50744543 0.31887115 0.42444027\n",
      " 0.00542492 0.09547876 0.36498427 0.91575832]\n"
     ]
    }
   ],
   "source": [
    "arr_random = np.random.random((10,))\n",
    "print(arr_random)"
   ]
  },
  {
   "cell_type": "code",
   "execution_count": 15,
   "id": "213900a4",
   "metadata": {},
   "outputs": [
    {
     "name": "stdout",
     "output_type": "stream",
     "text": [
      "[3.16227766 3.31662479 3.46410162 3.60555128 3.74165739 3.87298335\n",
      " 4.         4.12310563 4.24264069 4.35889894]\n"
     ]
    }
   ],
   "source": [
    "arr2_sqrt=np.sqrt(arr2)\n",
    "print(arr2_sqrt)"
   ]
  },
  {
   "cell_type": "code",
   "execution_count": 16,
   "id": "5e5213c1",
   "metadata": {},
   "outputs": [
    {
     "name": "stdout",
     "output_type": "stream",
     "text": [
      "[-0.54402111 -0.99999021 -0.53657292  0.42016704  0.99060736  0.65028784\n",
      " -0.28790332 -0.96139749 -0.75098725  0.14987721]\n"
     ]
    }
   ],
   "source": [
    "arr2_sin = np.sin(arr2)\n",
    "print(arr2_sin)"
   ]
  },
  {
   "cell_type": "code",
   "execution_count": 17,
   "id": "da20c284",
   "metadata": {},
   "outputs": [],
   "source": [
    "arr4 = np.arange(10,20)"
   ]
  },
  {
   "cell_type": "code",
   "execution_count": 18,
   "id": "6d5fa211",
   "metadata": {},
   "outputs": [
    {
     "name": "stdout",
     "output_type": "stream",
     "text": [
      "[20 22 24 26 28 30 32 34 36 38]\n"
     ]
    }
   ],
   "source": [
    "print(arr4+arr2)"
   ]
  },
  {
   "cell_type": "code",
   "execution_count": 19,
   "id": "44d058f2",
   "metadata": {},
   "outputs": [
    {
     "name": "stdout",
     "output_type": "stream",
     "text": [
      "[100 121 144 169 196 225 256 289 324 361]\n"
     ]
    }
   ],
   "source": [
    "print(arr4*arr2)"
   ]
  },
  {
   "cell_type": "code",
   "execution_count": 20,
   "id": "2f32af49",
   "metadata": {},
   "outputs": [
    {
     "name": "stdout",
     "output_type": "stream",
     "text": [
      "[1000 1331 1728 2197 2744 3375 4096 4913 5832 6859]\n"
     ]
    }
   ],
   "source": [
    "print(arr4**3)"
   ]
  },
  {
   "cell_type": "code",
   "execution_count": 21,
   "id": "b0a09d16",
   "metadata": {},
   "outputs": [
    {
     "name": "stdout",
     "output_type": "stream",
     "text": [
      "19\n"
     ]
    }
   ],
   "source": [
    "print(arr4.max())"
   ]
  },
  {
   "cell_type": "code",
   "execution_count": 22,
   "id": "9e86ca08",
   "metadata": {},
   "outputs": [
    {
     "name": "stdout",
     "output_type": "stream",
     "text": [
      "14.5\n"
     ]
    }
   ],
   "source": [
    "print(arr4.mean())"
   ]
  },
  {
   "cell_type": "code",
   "execution_count": 23,
   "id": "5f88561b",
   "metadata": {},
   "outputs": [
    {
     "name": "stdout",
     "output_type": "stream",
     "text": [
      "145\n"
     ]
    }
   ],
   "source": [
    "print(arr4.sum())"
   ]
  },
  {
   "cell_type": "code",
   "execution_count": 24,
   "id": "31778a86",
   "metadata": {},
   "outputs": [
    {
     "name": "stdout",
     "output_type": "stream",
     "text": [
      "2.8722813232690143\n"
     ]
    }
   ],
   "source": [
    "print(arr4.std())"
   ]
  },
  {
   "cell_type": "code",
   "execution_count": 25,
   "id": "9e9ce1a2",
   "metadata": {},
   "outputs": [
    {
     "name": "stdout",
     "output_type": "stream",
     "text": [
      "[False False False False False  True  True  True  True  True]\n"
     ]
    }
   ],
   "source": [
    "print(arr4 > 14)"
   ]
  },
  {
   "cell_type": "code",
   "execution_count": 26,
   "id": "bfa66899",
   "metadata": {},
   "outputs": [
    {
     "name": "stdout",
     "output_type": "stream",
     "text": [
      "1\n"
     ]
    }
   ],
   "source": [
    "print(arr4.ndim)"
   ]
  },
  {
   "cell_type": "code",
   "execution_count": 27,
   "id": "48a639ae",
   "metadata": {},
   "outputs": [
    {
     "name": "stdout",
     "output_type": "stream",
     "text": [
      "[10 11 12 13 14  4 15 16 17 18 19]\n"
     ]
    }
   ],
   "source": [
    "print(np.insert(arr4, 5, 4))"
   ]
  },
  {
   "cell_type": "code",
   "execution_count": 28,
   "id": "195d61a3",
   "metadata": {},
   "outputs": [
    {
     "name": "stdout",
     "output_type": "stream",
     "text": [
      "[10 11 12 13 15 16 17 18 19]\n"
     ]
    }
   ],
   "source": [
    "print(np.delete(arr4, 4))"
   ]
  },
  {
   "cell_type": "code",
   "execution_count": 29,
   "id": "f1bb9fde",
   "metadata": {},
   "outputs": [
    {
     "name": "stdout",
     "output_type": "stream",
     "text": [
      "[10 11 12 13 14 15 16 17 18 19]\n"
     ]
    }
   ],
   "source": [
    "print(np.sort(arr4))"
   ]
  },
  {
   "cell_type": "code",
   "execution_count": 31,
   "id": "79330413",
   "metadata": {},
   "outputs": [
    {
     "name": "stdout",
     "output_type": "stream",
     "text": [
      "[ 1.  2.  3.  4.  5. 10. 11. 12. 13. 14. 15. 16. 17. 18. 19.]\n"
     ]
    }
   ],
   "source": [
    "arr5 = np.concatenate((arr1,arr2))\n",
    "print(arr5)"
   ]
  },
  {
   "cell_type": "code",
   "execution_count": 32,
   "id": "1db7c051",
   "metadata": {},
   "outputs": [
    {
     "name": "stdout",
     "output_type": "stream",
     "text": [
      "[1. 2. 3. 4.]\n"
     ]
    }
   ],
   "source": [
    "print(arr5[(arr5 < 5)])"
   ]
  },
  {
   "cell_type": "code",
   "execution_count": 33,
   "id": "46b944c4",
   "metadata": {},
   "outputs": [
    {
     "name": "stdout",
     "output_type": "stream",
     "text": [
      "[]\n"
     ]
    }
   ],
   "source": [
    "print(arr5[(arr5 < 10) & (arr5 > 5)])"
   ]
  },
  {
   "cell_type": "code",
   "execution_count": 34,
   "id": "b06b0eca",
   "metadata": {},
   "outputs": [
    {
     "name": "stdout",
     "output_type": "stream",
     "text": [
      "[]\n"
     ]
    }
   ],
   "source": [
    "print(arr5[(arr5 < 3) & (arr5 > 170)])"
   ]
  },
  {
   "cell_type": "code",
   "execution_count": null,
   "id": "27cdaf0f",
   "metadata": {},
   "outputs": [],
   "source": []
  }
 ],
 "metadata": {
  "kernelspec": {
   "display_name": "Python 3 (ipykernel)",
   "language": "python",
   "name": "python3"
  },
  "language_info": {
   "codemirror_mode": {
    "name": "ipython",
    "version": 3
   },
   "file_extension": ".py",
   "mimetype": "text/x-python",
   "name": "python",
   "nbconvert_exporter": "python",
   "pygments_lexer": "ipython3",
   "version": "3.9.7"
  }
 },
 "nbformat": 4,
 "nbformat_minor": 5
}
